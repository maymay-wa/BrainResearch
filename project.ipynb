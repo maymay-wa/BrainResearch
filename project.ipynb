{
 "cells": [
  {
   "cell_type": "code",
   "execution_count": 22,
   "metadata": {},
   "outputs": [],
   "source": [
    "import os\n",
    "from tabulate import tabulate\n",
    "from nilearn import plotting\n",
    "from nilearn import image\n",
    "from nilearn.image import math_img, resample_to_img, get_data\n",
    "from nilearn.datasets import fetch_atlas_harvard_oxford\n",
    "from nilearn.plotting import plot_stat_map, view_img\n",
    "import numpy as np\n",
    "import pandas as pd\n",
    "from scipy.stats import ttest_1samp, pearsonr\n",
    "import seaborn as sns\n",
    "import matplotlib.pyplot as plt"
   ]
  },
  {
   "cell_type": "code",
   "execution_count": 2,
   "metadata": {},
   "outputs": [
    {
     "name": "stdout",
     "output_type": "stream",
     "text": [
      "[get_dataset_dir] Dataset found in /Users/mayerunterberg/nilearn_data/fsl\n"
     ]
    }
   ],
   "source": [
    "# Fetch the Harvard-Oxford atlas\n",
    "ATLAS = fetch_atlas_harvard_oxford('cort-maxprob-thr25-1mm')\n",
    "# Load the atlas image\n",
    "ATLAS_IMAGE = image.load_img(ATLAS.maps)\n",
    "ATLAS_DATA = get_data(ATLAS_IMAGE)\n",
    "# Extract region names from the atlas\n",
    "LABEL_NAMES = ATLAS['labels']\n",
    "# Extract unique region labels from the atlas\n",
    "REGION_LABELS = np.unique(ATLAS_DATA)"
   ]
  },
  {
   "cell_type": "code",
   "execution_count": 3,
   "metadata": {},
   "outputs": [],
   "source": [
    "def get_subject_file_pairs(data_dir, subjectDF):\n",
    "    file_pairs = []\n",
    "    for subject in os.listdir(data_dir):\n",
    "        subject_path = os.path.join(data_dir, subject)\n",
    "\n",
    "        # Skip non-directories or irrelevant files\n",
    "        if not os.path.isdir(subject_path) or subject.startswith('.') or subject == 'derivatives':\n",
    "            continue\n",
    "\n",
    "        for index, row in subjectDF.iterrows():\n",
    "            subject = row['participant_id']\n",
    "            subject_path = os.path.join(data_dir, f\"sub-{subject:03d}\")\n",
    "\n",
    "            # Locate BL and FU files\n",
    "            baseline_file = os.path.join(subject_path, 'ses-BL', 'anat', f\"sub-{subject:03d}_ses-BL_T1w.nii.gz\")\n",
    "            followup_file = os.path.join(subject_path, 'ses-FU', 'anat', f\"sub-{subject:03d}_ses-FU_T1w.nii.gz\")\n",
    "\n",
    "            # Verify that both files exist\n",
    "            if os.path.exists(baseline_file) and os.path.exists(followup_file):\n",
    "                # Add the file paths to the DataFrame\n",
    "                subjectDF.at[index, 'Baseline File Path'] = 'Data/' + os.path.relpath(baseline_file, data_dir)\n",
    "                subjectDF.at[index, 'Followup File Path'] = 'Data/' + os.path.relpath(followup_file, data_dir)\n",
    "            else:\n",
    "                print(f\"Skipping subject {subject}: missing files.\")"
   ]
  },
  {
   "cell_type": "code",
   "execution_count": 4,
   "metadata": {},
   "outputs": [],
   "source": [
    "def loadImage(imgPath):\n",
    "    img = image.load_img(imgPath)\n",
    "    img = resample_to_img(source_img=img, target_img=ATLAS_IMAGE, force_resample=True, copy_header=True)\n",
    "    img = image.smooth_img(img, fwhm=6)\n",
    "    return img\n",
    "\n",
    "def findDifferingAreas(index, regionList, img1, img2):\n",
    "    # Creates the difference map\n",
    "    diff = image.math_img(\"img1 - img2\", img1=img1, img2=img2)\n",
    "    diff_data = get_data(diff)\n",
    "    # Loop through each region to compute statistics\n",
    "    for label in REGION_LABELS:\n",
    "        regionMask = (ATLAS_DATA == label)\n",
    "        regionChanges = diff_data[regionMask]\n",
    "        region_mean = round(float(np.mean(regionChanges)), 2)\n",
    "        if 0 <= label < len(LABEL_NAMES):\n",
    "            region_name = LABEL_NAMES[label]  # Adjust for 1-based indexing\n",
    "        else:\n",
    "            region_name = \"Unknown Region\"\n",
    "        # Insert the region_mean into the correct column and row in the DataFrame\n",
    "        participants_df.loc[index, f\"{region_name} Change\"] = region_mean"
   ]
  },
  {
   "cell_type": "code",
   "execution_count": 5,
   "metadata": {},
   "outputs": [],
   "source": [
    "participants_df = pd.read_csv('Data/participants.tsv', sep=\"\\t\")\n",
    "# Add columns for file paths\n",
    "filePaths = ['Baseline File Path', 'Followup File Path']\n",
    "for label in filePaths:\n",
    "    participants_df[label] = None\n",
    "get_subject_file_pairs('Data', participants_df)\n",
    "for label in LABEL_NAMES:\n",
    "    participants_df[label + ' Change'] = None"
   ]
  },
  {
   "cell_type": "code",
   "execution_count": 6,
   "metadata": {},
   "outputs": [],
   "source": [
    "for index, row in participants_df.iterrows():\n",
    "    baseLinePath = participants_df.loc[index,'Baseline File Path']\n",
    "    followUpPath = participants_df.loc[index,'Followup File Path']\n",
    "    baseLine = loadImage(baseLinePath)\n",
    "    followUp = loadImage(followUpPath)\n",
    "    findDifferingAreas(index, participants_df, baseLine, followUp)\n",
    "    \n",
    "participants_df = participants_df.drop(columns=['Baseline File Path', 'Followup File Path'])"
   ]
  },
  {
   "cell_type": "code",
   "execution_count": 30,
   "metadata": {},
   "outputs": [
    {
     "data": {
      "text/plain": [
       "CompletedProcess(args=['open', 'participants_with_changes_test.xlsx'], returncode=0)"
      ]
     },
     "execution_count": 30,
     "metadata": {},
     "output_type": "execute_result"
    }
   ],
   "source": [
    "import subprocess\n",
    "output_excel_path = 'participants_with_changes_test.xlsx'\n",
    "participants_df.to_excel(output_excel_path, index=False)\n",
    "subprocess.run([\"open\", output_excel_path])"
   ]
  },
  {
   "cell_type": "code",
   "execution_count": 41,
   "metadata": {},
   "outputs": [],
   "source": [
    "participants_df['avg cudit'] = (participants_df['cudit total baseline'] + participants_df['cudit total follow-up']) / 2\n",
    "cudit_columns = ['avg cudit']\n",
    "brain_region_columns = [col for col in participants_df.columns if 'Change' in col]\n",
    "# Combine into one dataset\n",
    "correlation_data = participants_df[cudit_columns + brain_region_columns]\n",
    "# Compute correlations\n",
    "correlation_matrix = correlation_data.corr()\n",
    "cudit_correlations = correlation_matrix.loc[cudit_columns, brain_region_columns]\n",
    "#cudit_correlations.T.sort_values(by='avg cudit', ascending=False)"
   ]
  }
 ],
 "metadata": {
  "kernelspec": {
   "display_name": "venv",
   "language": "python",
   "name": "python3"
  },
  "language_info": {
   "codemirror_mode": {
    "name": "ipython",
    "version": 3
   },
   "file_extension": ".py",
   "mimetype": "text/x-python",
   "name": "python",
   "nbconvert_exporter": "python",
   "pygments_lexer": "ipython3",
   "version": "3.12.4"
  }
 },
 "nbformat": 4,
 "nbformat_minor": 2
}
